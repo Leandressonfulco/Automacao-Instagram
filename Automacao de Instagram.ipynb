{
 "cells": [
  {
   "cell_type": "code",
   "execution_count": 120,
   "id": "9b236f34",
   "metadata": {},
   "outputs": [
    {
     "name": "stderr",
     "output_type": "stream",
     "text": [
      "C:\\Users\\junior\\AppData\\Local\\Temp/ipykernel_5108/1608930151.py:3: DeprecationWarning: executable_path has been deprecated, please pass in a Service object\n",
      "  navegador=webdriver.Chrome('chromedriver.exe')\n"
     ]
    }
   ],
   "source": [
    "from selenium import webdriver\n",
    "import time \n",
    "navegador=webdriver.Chrome('chromedriver.exe')"
   ]
  },
  {
   "cell_type": "code",
   "execution_count": 121,
   "id": "ac323f2d",
   "metadata": {},
   "outputs": [],
   "source": [
    "navegador.get(\"https://www.instagram.com/\")\n",
    "time.sleep(2)"
   ]
  },
  {
   "cell_type": "code",
   "execution_count": 122,
   "id": "ad99bac4",
   "metadata": {},
   "outputs": [
    {
     "name": "stderr",
     "output_type": "stream",
     "text": [
      "C:\\Users\\junior\\AppData\\Local\\Temp/ipykernel_5108/1911265007.py:1: DeprecationWarning: find_element_by_* commands are deprecated. Please use find_element() instead\n",
      "  navegador.find_element_by_xpath('//*[@id=\"loginForm\"]/div/div[1]/div/label/input').send_keys('leofulcooficial')\n",
      "C:\\Users\\junior\\AppData\\Local\\Temp/ipykernel_5108/1911265007.py:2: DeprecationWarning: find_element_by_* commands are deprecated. Please use find_element() instead\n",
      "  navegador.find_element_by_xpath('//*[@id=\"loginForm\"]/div/div[2]/div/label/input').send_keys('vertentes250107sabrina')\n",
      "C:\\Users\\junior\\AppData\\Local\\Temp/ipykernel_5108/1911265007.py:3: DeprecationWarning: find_element_by_* commands are deprecated. Please use find_element() instead\n",
      "  navegador.find_element_by_xpath('//*[@id=\"loginForm\"]/div/div[3]/button/div').click()\n"
     ]
    }
   ],
   "source": [
    "navegador.find_element_by_xpath('//*[@id=\"loginForm\"]/div/div[1]/div/label/input').send_keys('SEU USUARIO AQUI')\n",
    "navegador.find_element_by_xpath('//*[@id=\"loginForm\"]/div/div[2]/div/label/input').send_keys('SUA SENHA AQUI')\n",
    "navegador.find_element_by_xpath('//*[@id=\"loginForm\"]/div/div[3]/button/div').click()\n",
    "time.sleep(3)\n"
   ]
  },
  {
   "cell_type": "code",
   "execution_count": 123,
   "id": "d890b4f8",
   "metadata": {},
   "outputs": [
    {
     "name": "stderr",
     "output_type": "stream",
     "text": [
      "C:\\Users\\junior\\AppData\\Local\\Temp/ipykernel_5108/1123732910.py:1: DeprecationWarning: find_element_by_* commands are deprecated. Please use find_element() instead\n",
      "  navegador.find_element_by_xpath('//*[@id=\"react-root\"]/section/main/div/div/div/div/button').click()\n",
      "C:\\Users\\junior\\AppData\\Local\\Temp/ipykernel_5108/1123732910.py:4: DeprecationWarning: find_element_by_* commands are deprecated. Please use find_element() instead\n",
      "  navegador.find_element_by_xpath('/html/body/div[5]/div/div/div/div[3]/button[2]').click()\n"
     ]
    }
   ],
   "source": [
    "navegador.find_element_by_xpath('//*[@id=\"react-root\"]/section/main/div/div/div/div/button').click()\n",
    "time.sleep(2)\n",
    "\n",
    "navegador.find_element_by_xpath('/html/body/div[5]/div/div/div/div[3]/button[2]').click()\n"
   ]
  },
  {
   "cell_type": "code",
   "execution_count": 124,
   "id": "44393e2c",
   "metadata": {
    "scrolled": true
   },
   "outputs": [
    {
     "name": "stderr",
     "output_type": "stream",
     "text": [
      "C:\\Users\\junior\\AppData\\Local\\Temp/ipykernel_5108/3163610770.py:1: DeprecationWarning: find_element_by_* commands are deprecated. Please use find_element() instead\n",
      "  navegador.find_element_by_xpath('//*[@id=\"react-root\"]/section/nav/div[2]/div/div/div[2]/div[1]/div/span[1]').click()\n"
     ]
    }
   ],
   "source": [
    "navegador.find_element_by_xpath('//*[@id=\"react-root\"]/section/nav/div[2]/div/div/div[2]/div[1]/div/span[1]').click()"
   ]
  },
  {
   "cell_type": "code",
   "execution_count": 125,
   "id": "2fe9f805",
   "metadata": {},
   "outputs": [
    {
     "name": "stderr",
     "output_type": "stream",
     "text": [
      "C:\\Users\\junior\\AppData\\Local\\Temp/ipykernel_5108/590625215.py:1: DeprecationWarning: find_element_by_* commands are deprecated. Please use find_element() instead\n",
      "  navegador.find_element_by_xpath('//*[@id=\"react-root\"]/section/nav/div[2]/div/div/div[2]/input').send_keys(\"meta\")\n"
     ]
    }
   ],
   "source": [
    "navegador.find_element_by_xpath('//*[@id=\"react-root\"]/section/nav/div[2]/div/div/div[2]/input').send_keys(\"meta\")\n",
    "time.sleep(0.5)"
   ]
  },
  {
   "cell_type": "code",
   "execution_count": 126,
   "id": "3dd0ab5c",
   "metadata": {},
   "outputs": [
    {
     "name": "stderr",
     "output_type": "stream",
     "text": [
      "C:\\Users\\junior\\AppData\\Local\\Temp/ipykernel_5108/4214273130.py:1: DeprecationWarning: find_element_by_* commands are deprecated. Please use find_element() instead\n",
      "  navegador.find_element_by_xpath('//*[@id=\"react-root\"]/section/nav/div[2]/div/div/div[2]/div[3]/div/div[2]/div/div[1]/a/div').click()\n"
     ]
    }
   ],
   "source": [
    "navegador.find_element_by_xpath('//*[@id=\"react-root\"]/section/nav/div[2]/div/div/div[2]/div[3]/div/div[2]/div/div[1]/a/div').click()\n",
    "time.sleep(3)"
   ]
  },
  {
   "cell_type": "code",
   "execution_count": 127,
   "id": "246c091d",
   "metadata": {},
   "outputs": [
    {
     "name": "stderr",
     "output_type": "stream",
     "text": [
      "C:\\Users\\junior\\AppData\\Local\\Temp/ipykernel_5108/2057671294.py:1: DeprecationWarning: find_element_by_* commands are deprecated. Please use find_element() instead\n",
      "  navegador.find_element_by_xpath('//*[@id=\"react-root\"]/section/main/div/header/section/div[1]/div[2]/div/div/div/span/span[1]/button').click()\n"
     ]
    }
   ],
   "source": [
    "navegador.find_element_by_xpath('//*[@id=\"react-root\"]/section/main/div/header/section/div[1]/div[2]/div/div/div/span/span[1]/button').click()\n"
   ]
  }
 ],
 "metadata": {
  "kernelspec": {
   "display_name": "Python 3 (ipykernel)",
   "language": "python",
   "name": "python3"
  },
  "language_info": {
   "codemirror_mode": {
    "name": "ipython",
    "version": 3
   },
   "file_extension": ".py",
   "mimetype": "text/x-python",
   "name": "python",
   "nbconvert_exporter": "python",
   "pygments_lexer": "ipython3",
   "version": "3.9.7"
  }
 },
 "nbformat": 4,
 "nbformat_minor": 5
}
